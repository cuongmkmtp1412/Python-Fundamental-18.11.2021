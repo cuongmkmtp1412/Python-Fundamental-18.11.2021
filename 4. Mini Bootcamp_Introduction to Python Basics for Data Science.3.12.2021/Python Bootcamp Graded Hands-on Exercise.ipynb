{
 "cells": [
  {
   "cell_type": "markdown",
   "metadata": {},
   "source": [
    "##Overview\n",
    "\n",
    "Dear Learner, \n",
    "\n",
    "Congratulations, you have studied Python all the way through the end of this bootcamp!!! This is the final graded hands-on exercise where you will be accomplishing the below mentioned task.\n",
    "\n",
    "Authors: Albana Celepija, Vinayak Deshpande"
   ]
  },
  {
   "cell_type": "markdown",
   "metadata": {},
   "source": [
    "install ipykernel Extension\n"
   ]
  },
  {
   "cell_type": "code",
   "execution_count": 19,
   "metadata": {},
   "outputs": [
    {
     "name": "stdout",
     "output_type": "stream",
     "text": [
      "('python', 'python', 'python', 'python', 'python')\n"
     ]
    }
   ],
   "source": [
    "''' \n",
    "Task 1\n",
    "We have declared a tuple containing five same elements as following: T = (‘python’, ‘python’, ‘python’, ‘python’, ‘python’).\n",
    "Re-write the same code in an optimal/simple way that fetches the same result.\n",
    "'''\n",
    "T_python = ('python',)\n",
    "print(T_python * 5)\n"
   ]
  },
  {
   "cell_type": "code",
   "execution_count": 1,
   "metadata": {},
   "outputs": [],
   "source": [
    "'''\n",
    "###Task 2\n",
    "Write code to print characters from a string that are present at an even index number.\n",
    "For example, if your input string is \"python\", the output characters will be (p,t,o).\n",
    "''' \n",
    "str_input = input(\"Enter a string\")\n",
    "print(str_input[0::2])"
   ]
  },
  {
   "cell_type": "code",
   "execution_count": 20,
   "metadata": {},
   "outputs": [
    {
     "name": "stdout",
     "output_type": "stream",
     "text": [
      "27\n"
     ]
    }
   ],
   "source": [
    "'''\n",
    "###Task 3\n",
    "Write a function that calculates the average of the elements of the list: \n",
    "elements = [5, 7, 4, 9, 2]\n",
    "'''\n",
    "elements = [5, 7, 4, 9, 2]\n",
    "sum = 0\n",
    "for i in elements: \n",
    "    sum += int(i)\n",
    "print(sum)"
   ]
  },
  {
   "cell_type": "code",
   "execution_count": 18,
   "metadata": {},
   "outputs": [
    {
     "ename": "ValueError",
     "evalue": "invalid literal for int() with base 10: ''",
     "output_type": "error",
     "traceback": [
      "\u001b[1;31m---------------------------------------------------------------------------\u001b[0m",
      "\u001b[1;31mValueError\u001b[0m                                Traceback (most recent call last)",
      "\u001b[1;32mC:\\Users\\ADMINI~1\\AppData\\Local\\Temp/ipykernel_30804/3857165022.py\u001b[0m in \u001b[0;36m<module>\u001b[1;34m\u001b[0m\n\u001b[0;32m      1\u001b[0m '''### Task 4\n\u001b[0;32m      2\u001b[0m Write code to find if the given year is a leap year or not.'''\n\u001b[1;32m----> 3\u001b[1;33m \u001b[0myear_input\u001b[0m \u001b[1;33m=\u001b[0m \u001b[0mint\u001b[0m\u001b[1;33m(\u001b[0m\u001b[0minput\u001b[0m\u001b[1;33m(\u001b[0m\u001b[1;34m\"Enter year which you want check: \"\u001b[0m\u001b[1;33m)\u001b[0m\u001b[1;33m)\u001b[0m\u001b[1;33m\u001b[0m\u001b[1;33m\u001b[0m\u001b[0m\n\u001b[0m\u001b[0;32m      4\u001b[0m \u001b[1;32mif\u001b[0m \u001b[0myear_input\u001b[0m \u001b[1;33m%\u001b[0m \u001b[1;36m4\u001b[0m \u001b[1;33m==\u001b[0m \u001b[1;36m0\u001b[0m\u001b[1;33m:\u001b[0m              \u001b[1;31m# despite the problem clearly being on line 1 : SyntaxError: invalid syntax ở 0:\u001b[0m\u001b[1;33m\u001b[0m\u001b[1;33m\u001b[0m\u001b[0m\n\u001b[0;32m      5\u001b[0m     \u001b[0mprint\u001b[0m\u001b[1;33m(\u001b[0m\u001b[1;34mf'{year_input} is a leap year'\u001b[0m\u001b[1;33m)\u001b[0m\u001b[1;33m\u001b[0m\u001b[1;33m\u001b[0m\u001b[0m\n",
      "\u001b[1;31mValueError\u001b[0m: invalid literal for int() with base 10: ''"
     ]
    }
   ],
   "source": [
    "'''### Task 4\n",
    "Write code to find if the given year is a leap year or not.'''\n",
    "year_input = int(input(\"Enter year which you want check: \"))   #ValueError: invalid literal for int() with base 10: ''\n",
    "if year_input % 4 == 0:              # despite the problem clearly being on line 1 : SyntaxError: invalid syntax ở 0:\n",
    "    print(f'{year_input} is a leap year')\n",
    "else: \n",
    "    print(f'{year_input} is not a leap year')"
   ]
  },
  {
   "cell_type": "code",
   "execution_count": 21,
   "metadata": {},
   "outputs": [
    {
     "name": "stdout",
     "output_type": "stream",
     "text": [
      "second_min is 12\n",
      "second_max is 57\n",
      "sum of second maximum and second minimum in the following list is 69\n"
     ]
    }
   ],
   "source": [
    "'''\n",
    "### Task 5\n",
    "Given a list of numbers (integers),\n",
    " find the sum of second maximum and second minimum in the following list.\n",
    "l = [21, 6, 12, 57, 35, 61]\n",
    "'''\n",
    "\n",
    "l = [21, 6, 12, 57, 35, 61]\n",
    "# Find the second_min \n",
    "second_min= None \n",
    "for value in l: \n",
    "    if second_min is None:     #dùng == cũng được(is thì mạnh hơn ==)\n",
    "        second_min= value\n",
    "    elif value < second_min and value > min(l) : \n",
    "        second_min= value  \n",
    "print(\"second_min is\", second_min)\n",
    "\n",
    "# Find the second_max\n",
    "second_max= None \n",
    "for value in l:  \n",
    "    if second_max is None:     #dùng == cũng được(is thì mạnh hơn ==)\n",
    "        second_max= value\n",
    "    elif value > second_max and value < max(l) : \n",
    "        second_max= value  \n",
    "print(\"second_max is\", second_max)\n",
    "\n",
    "print(f'sum of second maximum and second minimum in the following list is {second_min + second_max}')\n",
    "\n",
    "# ipynb này sử dụng quy tắc code chuẩn PEP8 chuẩn gg đưa ra. nên <elif value< second_min> cũng báo syntax errol"
   ]
  },
  {
   "cell_type": "code",
   "execution_count": null,
   "metadata": {},
   "outputs": [],
   "source": [
    "#9/12/2021: yêu cầu chấm bài và có ô làm ngắn cực: \n",
    "l = [21, 6, 12, 57, 35, 61]\n",
    "l1=sorted(l)\n",
    "l1         # Điêu cực nha, khi ko có dòng 4 thì >>> [6, 12, ...]\n",
    "\n",
    "print(l1[1]+l1[len(l1)-2])\n",
    "# Lúc đó mình chưa học kĩ về list.sort() method and sorted() function. \n",
    "\n"
   ]
  },
  {
   "cell_type": "code",
   "execution_count": 25,
   "metadata": {},
   "outputs": [
    {
     "name": "stdout",
     "output_type": "stream",
     "text": [
      "10\n"
     ]
    }
   ],
   "source": [
    "x = int(\"10\")\n",
    "print(x)"
   ]
  }
 ],
 "metadata": {
  "interpreter": {
   "hash": "c617fa10d1ba9d6a36573c3c4f7496e3bb2fbcdd4aeff3a055aadb58d26c8355"
  },
  "kernelspec": {
   "display_name": "Python 3.8.4 32-bit",
   "language": "python",
   "name": "python3"
  },
  "language_info": {
   "codemirror_mode": {
    "name": "ipython",
    "version": 3
   },
   "file_extension": ".py",
   "mimetype": "text/x-python",
   "name": "python",
   "nbconvert_exporter": "python",
   "pygments_lexer": "ipython3",
   "version": "3.8.4"
  },
  "orig_nbformat": 4
 },
 "nbformat": 4,
 "nbformat_minor": 2
}
